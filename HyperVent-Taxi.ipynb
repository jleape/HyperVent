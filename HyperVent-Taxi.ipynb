{
 "cells": [
  {
   "cell_type": "code",
   "execution_count": null,
   "metadata": {},
   "outputs": [],
   "source": [
    "!git clone https://github.com/mthh/cartogram_geopandas.git\n",
    "!cd cartogram_geopandas\n",
    "!python setup.py install"
   ]
  },
  {
   "cell_type": "code",
   "execution_count": 3,
   "metadata": {},
   "outputs": [],
   "source": [
    "import pandas as pd\n",
    "import numpy as np\n",
    "import urllib.request\n",
    "import matplotlib.pyplot as plt\n",
    "%matplotlib inline\n",
    "plt.style.use('ggplot')\n",
    "plt.rc('figure', max_open_warning = 0)\n",
    "plt.rcParams['figure.figsize'] = [10, 5]\n",
    "import geopandas as gpd\n",
    "from cartogram_geopandas import make_cartogram\n",
    "import os\n",
    "import glob\n",
    "import imageio"
   ]
  },
  {
   "cell_type": "markdown",
   "metadata": {},
   "source": [
    "References:\n",
    "\n",
    "https://github.com/mthh/cartogram_geopandas\n",
    "\n",
    "https://towardsdatascience.com/visualizing-geospatial-data-in-python-e070374fe621\n",
    "\n",
    "https://chih-ling-hsu.github.io/2018/05/14/NYC"
   ]
  },
  {
   "cell_type": "code",
   "execution_count": 4,
   "metadata": {},
   "outputs": [],
   "source": [
    "# download taxi zones\n",
    "zipfile = \"https://s3.amazonaws.com/nyc-tlc/misc/taxi_zones.zip\"\n",
    "taxi_zones = gpd.read_file(zipfile)\n",
    "taxi_zones = taxi_zones[['zone','LocationID','borough','geometry']]\n",
    "taxi_zones.rename(columns={'zone':'zone_name','LocationID':'zone'},inplace=True)"
   ]
  },
  {
   "cell_type": "code",
   "execution_count": 5,
   "metadata": {
    "scrolled": true
   },
   "outputs": [
    {
     "data": {
      "text/html": [
       "<div>\n",
       "<style scoped>\n",
       "    .dataframe tbody tr th:only-of-type {\n",
       "        vertical-align: middle;\n",
       "    }\n",
       "\n",
       "    .dataframe tbody tr th {\n",
       "        vertical-align: top;\n",
       "    }\n",
       "\n",
       "    .dataframe thead th {\n",
       "        text-align: right;\n",
       "    }\n",
       "</style>\n",
       "<table border=\"1\" class=\"dataframe\">\n",
       "  <thead>\n",
       "    <tr style=\"text-align: right;\">\n",
       "      <th></th>\n",
       "      <th>zone_name</th>\n",
       "      <th>zone</th>\n",
       "      <th>borough</th>\n",
       "      <th>geometry</th>\n",
       "    </tr>\n",
       "  </thead>\n",
       "  <tbody>\n",
       "    <tr>\n",
       "      <th>0</th>\n",
       "      <td>Newark Airport</td>\n",
       "      <td>1</td>\n",
       "      <td>EWR</td>\n",
       "      <td>POLYGON ((933100.918 192536.086, 933091.011 19...</td>\n",
       "    </tr>\n",
       "    <tr>\n",
       "      <th>1</th>\n",
       "      <td>Jamaica Bay</td>\n",
       "      <td>2</td>\n",
       "      <td>Queens</td>\n",
       "      <td>MULTIPOLYGON (((1033269.244 172126.008, 103343...</td>\n",
       "    </tr>\n",
       "    <tr>\n",
       "      <th>2</th>\n",
       "      <td>Allerton/Pelham Gardens</td>\n",
       "      <td>3</td>\n",
       "      <td>Bronx</td>\n",
       "      <td>POLYGON ((1026308.770 256767.698, 1026495.593 ...</td>\n",
       "    </tr>\n",
       "    <tr>\n",
       "      <th>3</th>\n",
       "      <td>Alphabet City</td>\n",
       "      <td>4</td>\n",
       "      <td>Manhattan</td>\n",
       "      <td>POLYGON ((992073.467 203714.076, 992068.667 20...</td>\n",
       "    </tr>\n",
       "    <tr>\n",
       "      <th>4</th>\n",
       "      <td>Arden Heights</td>\n",
       "      <td>5</td>\n",
       "      <td>Staten Island</td>\n",
       "      <td>POLYGON ((935843.310 144283.336, 936046.565 14...</td>\n",
       "    </tr>\n",
       "  </tbody>\n",
       "</table>\n",
       "</div>"
      ],
      "text/plain": [
       "                 zone_name  zone        borough  \\\n",
       "0           Newark Airport     1            EWR   \n",
       "1              Jamaica Bay     2         Queens   \n",
       "2  Allerton/Pelham Gardens     3          Bronx   \n",
       "3            Alphabet City     4      Manhattan   \n",
       "4            Arden Heights     5  Staten Island   \n",
       "\n",
       "                                            geometry  \n",
       "0  POLYGON ((933100.918 192536.086, 933091.011 19...  \n",
       "1  MULTIPOLYGON (((1033269.244 172126.008, 103343...  \n",
       "2  POLYGON ((1026308.770 256767.698, 1026495.593 ...  \n",
       "3  POLYGON ((992073.467 203714.076, 992068.667 20...  \n",
       "4  POLYGON ((935843.310 144283.336, 936046.565 14...  "
      ]
     },
     "execution_count": 5,
     "metadata": {},
     "output_type": "execute_result"
    }
   ],
   "source": [
    "taxi_zones.head()"
   ]
  },
  {
   "cell_type": "code",
   "execution_count": null,
   "metadata": {
    "scrolled": true
   },
   "outputs": [],
   "source": [
    "# plot shapes\n",
    "fig, ax = plt.subplots(nrows=1, ncols=2, figsize=(15,8), dpi=150)\n",
    "# boroughs\n",
    "ax = plt.subplot(1, 2, 1)\n",
    "ax.set_title(\"Boroughs in NYC\")\n",
    "taxi_zones.plot(column='borough',cmap='Pastel1',ax=ax).axis(\"off\")\n",
    "# taxi zones\n",
    "ax = plt.subplot(1, 2, 2)\n",
    "ax.set_title(\"Zones in NYC\")\n",
    "taxi_zones.plot(column='zone',cmap='Pastel1',ax=ax).axis(\"off\")"
   ]
  },
  {
   "cell_type": "code",
   "execution_count": null,
   "metadata": {},
   "outputs": [],
   "source": [
    "# download trips data\n",
    "service = 'yellow' # 'yellow', 'green', 'fhv'\n",
    "\n",
    "for month in [3,8]: # In 2019, March was peak, August was trough\n",
    "    urllib.request.urlretrieve(\"https://s3.amazonaws.com/nyc-tlc/trip+data/\"+ \\\n",
    "                               f\"{service}_tripdata_2019-{month}.csv\", \n",
    "                               os.path.join(\"trip_data\",service,f\"trips_2019-{month}.csv\"))"
   ]
  },
  {
   "cell_type": "code",
   "execution_count": 9,
   "metadata": {},
   "outputs": [
    {
     "data": {
      "text/html": [
       "<div>\n",
       "<style scoped>\n",
       "    .dataframe tbody tr th:only-of-type {\n",
       "        vertical-align: middle;\n",
       "    }\n",
       "\n",
       "    .dataframe tbody tr th {\n",
       "        vertical-align: top;\n",
       "    }\n",
       "\n",
       "    .dataframe thead th {\n",
       "        text-align: right;\n",
       "    }\n",
       "</style>\n",
       "<table border=\"1\" class=\"dataframe\">\n",
       "  <thead>\n",
       "    <tr style=\"text-align: right;\">\n",
       "      <th></th>\n",
       "      <th>pu_dt</th>\n",
       "      <th>do_dt</th>\n",
       "      <th>pu_zone</th>\n",
       "      <th>do_zone</th>\n",
       "      <th>pax</th>\n",
       "    </tr>\n",
       "  </thead>\n",
       "  <tbody>\n",
       "    <tr>\n",
       "      <th>0</th>\n",
       "      <td>2019-03-01 00:02:21</td>\n",
       "      <td>2019-03-01 00:04:52</td>\n",
       "      <td>193</td>\n",
       "      <td>193</td>\n",
       "      <td>1</td>\n",
       "    </tr>\n",
       "    <tr>\n",
       "      <th>1</th>\n",
       "      <td>2019-03-01 00:42:31</td>\n",
       "      <td>2019-03-01 00:47:42</td>\n",
       "      <td>80</td>\n",
       "      <td>256</td>\n",
       "      <td>1</td>\n",
       "    </tr>\n",
       "    <tr>\n",
       "      <th>2</th>\n",
       "      <td>2019-03-01 00:15:53</td>\n",
       "      <td>2019-03-01 00:18:37</td>\n",
       "      <td>7</td>\n",
       "      <td>179</td>\n",
       "      <td>1</td>\n",
       "    </tr>\n",
       "    <tr>\n",
       "      <th>3</th>\n",
       "      <td>2019-02-28 23:55:58</td>\n",
       "      <td>2019-03-01 00:01:30</td>\n",
       "      <td>256</td>\n",
       "      <td>80</td>\n",
       "      <td>1</td>\n",
       "    </tr>\n",
       "    <tr>\n",
       "      <th>4</th>\n",
       "      <td>2019-03-01 00:55:58</td>\n",
       "      <td>2019-03-01 00:58:12</td>\n",
       "      <td>223</td>\n",
       "      <td>223</td>\n",
       "      <td>1</td>\n",
       "    </tr>\n",
       "  </tbody>\n",
       "</table>\n",
       "</div>"
      ],
      "text/plain": [
       "                pu_dt               do_dt  pu_zone  do_zone  pax\n",
       "0 2019-03-01 00:02:21 2019-03-01 00:04:52      193      193    1\n",
       "1 2019-03-01 00:42:31 2019-03-01 00:47:42       80      256    1\n",
       "2 2019-03-01 00:15:53 2019-03-01 00:18:37        7      179    1\n",
       "3 2019-02-28 23:55:58 2019-03-01 00:01:30      256       80    1\n",
       "4 2019-03-01 00:55:58 2019-03-01 00:58:12      223      223    1"
      ]
     },
     "execution_count": 9,
     "metadata": {},
     "output_type": "execute_result"
    }
   ],
   "source": [
    "# import green trips data\n",
    "green_df = pd.read_csv(os.path.join(\"trip_data\",\"green\",\"trips_2019-3.csv\"),\n",
    "                       parse_dates=['lpep_pickup_datetime','lpep_dropoff_datetime'],\n",
    "                       usecols=[1,2,5,6,7])\n",
    "green_df.rename(columns={'lpep_pickup_datetime':'pu_dt','lpep_dropoff_datetime':'do_dt',\n",
    "                        'PULocationID':'pu_zone','DOLocationID':'do_zone','passenger_count':'pax'},\n",
    "                inplace=True)\n",
    "green_df.head()"
   ]
  },
  {
   "cell_type": "code",
   "execution_count": 10,
   "metadata": {},
   "outputs": [
    {
     "data": {
      "text/html": [
       "<div>\n",
       "<style scoped>\n",
       "    .dataframe tbody tr th:only-of-type {\n",
       "        vertical-align: middle;\n",
       "    }\n",
       "\n",
       "    .dataframe tbody tr th {\n",
       "        vertical-align: top;\n",
       "    }\n",
       "\n",
       "    .dataframe thead th {\n",
       "        text-align: right;\n",
       "    }\n",
       "</style>\n",
       "<table border=\"1\" class=\"dataframe\">\n",
       "  <thead>\n",
       "    <tr style=\"text-align: right;\">\n",
       "      <th></th>\n",
       "      <th>pu_dt</th>\n",
       "      <th>do_dt</th>\n",
       "      <th>pax</th>\n",
       "      <th>pu_zone</th>\n",
       "      <th>do_zone</th>\n",
       "    </tr>\n",
       "  </thead>\n",
       "  <tbody>\n",
       "    <tr>\n",
       "      <th>0</th>\n",
       "      <td>2019-03-01 00:24:41</td>\n",
       "      <td>2019-03-01 00:25:31</td>\n",
       "      <td>1</td>\n",
       "      <td>145</td>\n",
       "      <td>145</td>\n",
       "    </tr>\n",
       "    <tr>\n",
       "      <th>1</th>\n",
       "      <td>2019-03-01 00:25:27</td>\n",
       "      <td>2019-03-01 00:36:37</td>\n",
       "      <td>2</td>\n",
       "      <td>95</td>\n",
       "      <td>130</td>\n",
       "    </tr>\n",
       "    <tr>\n",
       "      <th>2</th>\n",
       "      <td>2019-03-01 00:05:21</td>\n",
       "      <td>2019-03-01 00:38:23</td>\n",
       "      <td>1</td>\n",
       "      <td>249</td>\n",
       "      <td>28</td>\n",
       "    </tr>\n",
       "    <tr>\n",
       "      <th>3</th>\n",
       "      <td>2019-03-01 00:48:55</td>\n",
       "      <td>2019-03-01 01:06:03</td>\n",
       "      <td>1</td>\n",
       "      <td>138</td>\n",
       "      <td>98</td>\n",
       "    </tr>\n",
       "    <tr>\n",
       "      <th>4</th>\n",
       "      <td>2019-03-01 00:11:42</td>\n",
       "      <td>2019-03-01 00:16:40</td>\n",
       "      <td>1</td>\n",
       "      <td>48</td>\n",
       "      <td>48</td>\n",
       "    </tr>\n",
       "  </tbody>\n",
       "</table>\n",
       "</div>"
      ],
      "text/plain": [
       "                pu_dt               do_dt  pax  pu_zone  do_zone\n",
       "0 2019-03-01 00:24:41 2019-03-01 00:25:31    1      145      145\n",
       "1 2019-03-01 00:25:27 2019-03-01 00:36:37    2       95      130\n",
       "2 2019-03-01 00:05:21 2019-03-01 00:38:23    1      249       28\n",
       "3 2019-03-01 00:48:55 2019-03-01 01:06:03    1      138       98\n",
       "4 2019-03-01 00:11:42 2019-03-01 00:16:40    1       48       48"
      ]
     },
     "execution_count": 10,
     "metadata": {},
     "output_type": "execute_result"
    }
   ],
   "source": [
    "# import yellow trips data\n",
    "yellow_df = pd.read_csv(os.path.join(\"trip_data\",\"yellow\",\"trips_2019-3.csv\"),\n",
    "                       parse_dates=['tpep_pickup_datetime','tpep_dropoff_datetime'],\n",
    "                       usecols=[1,2,3,7,8])\n",
    "yellow_df.rename(columns={'tpep_pickup_datetime':'pu_dt','tpep_dropoff_datetime':'do_dt',\n",
    "                        'PULocationID':'pu_zone','DOLocationID':'do_zone','passenger_count':'pax'},\n",
    "                inplace=True)\n",
    "yellow_df.head()"
   ]
  },
  {
   "cell_type": "code",
   "execution_count": null,
   "metadata": {},
   "outputs": [],
   "source": [
    "trips_df = pd.concat((green_df,yellow_df),axis=0)\n",
    "del green_df\n",
    "del yellow_df"
   ]
  },
  {
   "cell_type": "code",
   "execution_count": null,
   "metadata": {},
   "outputs": [],
   "source": [
    "# import data -> df\n",
    "\n",
    "# all_files = glob.iglob(os.path.join(\"trip_data\",\"green\", \"*.csv\")) \n",
    "# trips_df <- pd.concat((pd.read_csv(f,\n",
    "#                                    parse_dates=['lpep_pickup_datetime','lpep_dropoff_datetime'],\n",
    "#                                    usecols=[1,2,3,7,8],\n",
    "#                                    low_memory=False) for f in all_files), \n",
    "#                       ignore_index=True)"
   ]
  },
  {
   "cell_type": "code",
   "execution_count": 19,
   "metadata": {},
   "outputs": [],
   "source": [
    "##### pick-up and drop-off times\n",
    "trips_df['pu_hr'] = [x.hour + np.floor(4*x.minute/60)/4 for x in trips_df['pu_dt']]\n",
    "trips_df['do_hr'] = [x.hour + np.floor(4*x.minute/60)/4 for x in trips_df['do_dt']]\n",
    "\n",
    "# pick-up and drop-off day types\n",
    "trips_df['pu_day'] = ['weekday' if x.weekday() < 5 else 'weekend' for x in trips_df['pu_dt']]\n",
    "trips_df['do_day'] = ['weekday' if x.weekday() < 5 else 'weekend' for x in trips_df['do_dt']]\n",
    "\n",
    "# aggregate trips by taxi zone, day and time\n",
    "pu_sum = trips_df.groupby(['pu_zone','pu_day','pu_hr'])[['pax']].agg('sum').reset_index()\n",
    "do_sum = trips_df.groupby(['do_zone','do_day','do_hr'])[['pax']].agg('sum').reset_index()\n",
    "pu_sum.columns = ['zone','day','hr','pax']\n",
    "do_sum.columns = ['zone','day','hr','pax']"
   ]
  },
  {
   "cell_type": "code",
   "execution_count": 20,
   "metadata": {},
   "outputs": [],
   "source": [
    "# cumulative sums\n",
    "pu_sum.sort_values(by=['day','zone','hr'],ascending=True)\n",
    "pu_sum['cumpax'] = pu_sum.groupby(['day','zone'])['pax'].transform(pd.Series.cumsum)\n",
    "do_sum.sort_values(by=['day','zone','hr'],ascending=True)\n",
    "do_sum['cumpax'] = do_sum.groupby(['day','zone'])['pax'].transform(pd.Series.cumsum)"
   ]
  },
  {
   "cell_type": "code",
   "execution_count": null,
   "metadata": {
    "scrolled": true
   },
   "outputs": [],
   "source": [
    "# # total pick-ups by zone\n",
    "# pu_max = pu_sum.groupby('zone')['cumpax'].max().reset_index()\n",
    "# pu_max.rename(columns={'cumpax':'pu_max'},inplace=True)\n",
    "\n",
    "# # total drop-offs by zone\n",
    "# do_max = do_sum.groupby('zone')['cumpax'].max().reset_index()\n",
    "# do_max.rename(columns={'cumpax':'do_max'},inplace=True)\n",
    "\n",
    "# # merge with zones\n",
    "# taxi_zones = taxi_zones.merge(pu_max,on='zone',how='left').merge(do_max,on='zone',how='left')\n",
    "# taxi_zones.head()"
   ]
  },
  {
   "cell_type": "code",
   "execution_count": 21,
   "metadata": {
    "scrolled": true
   },
   "outputs": [
    {
     "data": {
      "text/plain": [
       "<matplotlib.axes._subplots.AxesSubplot at 0x12379d190>"
      ]
     },
     "execution_count": 21,
     "metadata": {},
     "output_type": "execute_result"
    },
    {
     "data": {
      "image/png": "[encoded data removed]",
      "text/plain": [
       "<Figure size 720x360 with 1 Axes>"
      ]
     },
     "metadata": {},
     "output_type": "display_data"
    }
   ],
   "source": [
    "pu_sum[(pu_sum['zone'] == 145) & (pu_sum['day'] == 'weekday')].plot(x='hr',y='cumpax')\n"
   ]
  },
  {
   "cell_type": "code",
   "execution_count": 22,
   "metadata": {},
   "outputs": [
    {
     "data": {
      "text/plain": [
       "<matplotlib.axes._subplots.AxesSubplot at 0x13ec07190>"
      ]
     },
     "execution_count": 22,
     "metadata": {},
     "output_type": "execute_result"
    },
    {
     "data": {
      "image/png": "[encoded data removed]",
      "text/plain": [
       "<Figure size 720x360 with 1 Axes>"
      ]
     },
     "metadata": {},
     "output_type": "display_data"
    }
   ],
   "source": [
    "do_sum[(do_sum['zone'] == 145) & (do_sum['day'] == 'weekday')].plot(x='hr',y='cumpax')"
   ]
  },
  {
   "cell_type": "code",
   "execution_count": 23,
   "metadata": {},
   "outputs": [],
   "source": [
    "def plot_cartogram(day, hr):\n",
    "    '''\n",
    "    Plots cartogram according to average flux at hour of given day type\n",
    "    hr must be a float between 0 and 24 inclusive\n",
    "    day must be in {'weekday','weekend'}\n",
    "    '''\n",
    "    # filter sums\n",
    "    pu_now = pu_sum[(pu_sum['day'] == day) & (pu_sum['hr'] == hr)]\n",
    "    do_now = do_sum[(do_sum['day'] == day) & (do_sum['hr'] == hr)]\n",
    "\n",
    "    zones_now = taxi_zones.merge(pu_now,on='zone',how='left').merge(do_now,on='zone',how='left')\n",
    "    zones_now.fillna(0,inplace=True)\n",
    "#     zones_now['flux_ratio'] = (zones_now['pu_max'] + zones_now['cumpax_y'] - zones_now['cumpax_x']) / zones_now['pu_max']\n",
    "#     zones_now['flux_ratio'] = zones_now['cumpax_y'] / zones_now['cumpax_x']\n",
    "    zones_now['flux_ratio'] = 1 + (zones_now['cumpax_y'] - zones_now['cumpax_x']) / zones_now['cumpax_x']\n",
    "    zones_now['flux_ratio'].replace(np.inf,1,inplace=True)\n",
    "    zones_now['flux_ratio'].replace(np.nan,1,inplace=True)\n",
    "    zones_now['flux_ratio'].replace(0,.1,inplace=True)\n",
    "\n",
    "    # set figure\n",
    "    fig, ax = plt.subplots(1, 1)\n",
    "    fig.set_size_inches(10, 10)\n",
    "    fig.set_dpi(100)\n",
    "    \n",
    "    # plot cartogram\n",
    "    carto = make_cartogram(zones_now, 'flux_ratio', 3, inplace=False);\n",
    "    carto_plot = carto.plot(column='pax_y',cmap='cividis',ax=ax);\n",
    "    carto_plot.axis(\"off\");\n",
    "        \n",
    "    file_name = os.path.join(\"anim\", day, str(f\"hr_{hr}.png\"));\n",
    "    plt.savefig(file_name, bbox_inches=\"tight\", pad_inches=0.1);\n",
    "    plt.close()\n",
    "                             \n",
    "    return file_name"
   ]
  },
  {
   "cell_type": "code",
   "execution_count": 24,
   "metadata": {},
   "outputs": [
    {
     "data": {
      "text/plain": [
       "'anim/weekday/hr_21.0.png'"
      ]
     },
     "execution_count": 24,
     "metadata": {},
     "output_type": "execute_result"
    }
   ],
   "source": [
    "# test the function\n",
    "plot_cartogram('weekday',1.0)\n",
    "plot_cartogram('weekday',5.0)\n",
    "plot_cartogram('weekday',9.0)\n",
    "plot_cartogram('weekday',13.0)\n",
    "plot_cartogram('weekday',17.0)\n",
    "plot_cartogram('weekday',21.0)\n"
   ]
  },
  {
   "cell_type": "code",
   "execution_count": 25,
   "metadata": {},
   "outputs": [],
   "source": [
    "# array of times\n",
    "hrs = (round(x * 0.25,2) for x in range(0, 24*4))"
   ]
  },
  {
   "cell_type": "code",
   "execution_count": 26,
   "metadata": {},
   "outputs": [],
   "source": [
    "# create cartogram frames\n",
    "# for day in ['weekday','weekend']:\n",
    "\n",
    "day = 'weekday'\n",
    "\n",
    "# create frames\n",
    "image_files = []\n",
    "for hr in hrs:\n",
    "    file_name = plot_cartogram(day,hr)\n",
    "    image_files.append(file_name)"
   ]
  },
  {
   "cell_type": "code",
   "execution_count": 27,
   "metadata": {},
   "outputs": [],
   "source": [
    "# create gif\n",
    "images = []\n",
    "for file_name in image_files:\n",
    "    images.append(imageio.imread(file_name))\n",
    "\n",
    "gif_path = str(f\"movie_{day}.gif\")\n",
    "imageio.mimsave(gif_path, images, fps=10)"
   ]
  },
  {
   "cell_type": "code",
   "execution_count": null,
   "metadata": {},
   "outputs": [],
   "source": []
  }
 ],
 "metadata": {
  "kernelspec": {
   "display_name": "Python 3",
   "language": "python",
   "name": "python3"
  },
  "language_info": {
   "codemirror_mode": {
    "name": "ipython",
    "version": 3
   },
   "file_extension": ".py",
   "mimetype": "text/x-python",
   "name": "python",
   "nbconvert_exporter": "python",
   "pygments_lexer": "ipython3",
   "version": "3.7.6"
  }
 },
 "nbformat": 4,
 "nbformat_minor": 4
}
